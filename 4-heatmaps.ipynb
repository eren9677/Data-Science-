{
 "cells": [
  {
   "cell_type": "markdown",
   "metadata": {},
   "source": [
    "# Heatmaps"
   ]
  },
  {
   "attachments": {},
   "cell_type": "markdown",
   "metadata": {},
   "source": [
    "Heatmaps are a way to visualize three-dimensions of data and to take advantage of spatial proximity of those dimensions.\n",
    "It should be used to find patterns on continuous data it is not meant for categorical data"
   ]
  },
  {
   "cell_type": "code",
   "execution_count": 1,
   "metadata": {},
   "outputs": [],
   "source": [
    "# Let's bring in matplotlib and numpy, as well as pandas and some date time functionality\n",
    "import matplotlib.pyplot as plt\n",
    "import numpy as np\n",
    "import pandas as pd\n",
    "from datetime import datetime"
   ]
  },
  {
   "cell_type": "code",
   "execution_count": 2,
   "metadata": {},
   "outputs": [
    {
     "data": {
      "text/html": [
       "<div>\n",
       "<style scoped>\n",
       "    .dataframe tbody tr th:only-of-type {\n",
       "        vertical-align: middle;\n",
       "    }\n",
       "\n",
       "    .dataframe tbody tr th {\n",
       "        vertical-align: top;\n",
       "    }\n",
       "\n",
       "    .dataframe thead th {\n",
       "        text-align: right;\n",
       "    }\n",
       "</style>\n",
       "<table border=\"1\" class=\"dataframe\">\n",
       "  <thead>\n",
       "    <tr style=\"text-align: right;\">\n",
       "      <th></th>\n",
       "      <th>Plaza ID</th>\n",
       "      <th>Date</th>\n",
       "      <th>Hour</th>\n",
       "      <th>Direction</th>\n",
       "      <th># Vehicles - E-ZPass</th>\n",
       "      <th># Vehicles - VToll</th>\n",
       "    </tr>\n",
       "  </thead>\n",
       "  <tbody>\n",
       "    <tr>\n",
       "      <th>0</th>\n",
       "      <td>21</td>\n",
       "      <td>2022-08-06</td>\n",
       "      <td>0</td>\n",
       "      <td>I</td>\n",
       "      <td>2820</td>\n",
       "      <td>649</td>\n",
       "    </tr>\n",
       "    <tr>\n",
       "      <th>1</th>\n",
       "      <td>21</td>\n",
       "      <td>2022-08-06</td>\n",
       "      <td>1</td>\n",
       "      <td>I</td>\n",
       "      <td>2124</td>\n",
       "      <td>474</td>\n",
       "    </tr>\n",
       "    <tr>\n",
       "      <th>2</th>\n",
       "      <td>21</td>\n",
       "      <td>2022-08-06</td>\n",
       "      <td>2</td>\n",
       "      <td>I</td>\n",
       "      <td>1617</td>\n",
       "      <td>391</td>\n",
       "    </tr>\n",
       "    <tr>\n",
       "      <th>3</th>\n",
       "      <td>21</td>\n",
       "      <td>2022-08-06</td>\n",
       "      <td>3</td>\n",
       "      <td>I</td>\n",
       "      <td>1228</td>\n",
       "      <td>358</td>\n",
       "    </tr>\n",
       "    <tr>\n",
       "      <th>4</th>\n",
       "      <td>21</td>\n",
       "      <td>2022-08-06</td>\n",
       "      <td>4</td>\n",
       "      <td>I</td>\n",
       "      <td>1604</td>\n",
       "      <td>368</td>\n",
       "    </tr>\n",
       "  </tbody>\n",
       "</table>\n",
       "</div>"
      ],
      "text/plain": [
       "   Plaza ID       Date  Hour Direction  # Vehicles - E-ZPass  \\\n",
       "0        21 2022-08-06     0         I                  2820   \n",
       "1        21 2022-08-06     1         I                  2124   \n",
       "2        21 2022-08-06     2         I                  1617   \n",
       "3        21 2022-08-06     3         I                  1228   \n",
       "4        21 2022-08-06     4         I                  1604   \n",
       "\n",
       "   # Vehicles - VToll  \n",
       "0                 649  \n",
       "1                 474  \n",
       "2                 391  \n",
       "3                 358  \n",
       "4                 368  "
      ]
     },
     "execution_count": 2,
     "metadata": {},
     "output_type": "execute_result"
    }
   ],
   "source": [
    "# In this example I want to show you some traffic data from New York City, which is\n",
    "# all available from NYC open data portal.\n",
    "df=pd.read_csv(\"NYC hourly traffic.csv\")\n",
    "\n",
    "# I'm going to convert the date column into a date and time\n",
    "df[\"Date\"]=df[\"Date\"].apply(pd.to_datetime)\n",
    "\n",
    "df.head()"
   ]
  },
  {
   "cell_type": "code",
   "execution_count": 3,
   "metadata": {},
   "outputs": [
    {
     "data": {
      "text/html": [
       "<div>\n",
       "<style scoped>\n",
       "    .dataframe tbody tr th:only-of-type {\n",
       "        vertical-align: middle;\n",
       "    }\n",
       "\n",
       "    .dataframe tbody tr th {\n",
       "        vertical-align: top;\n",
       "    }\n",
       "\n",
       "    .dataframe thead th {\n",
       "        text-align: right;\n",
       "    }\n",
       "</style>\n",
       "<table border=\"1\" class=\"dataframe\">\n",
       "  <thead>\n",
       "    <tr style=\"text-align: right;\">\n",
       "      <th></th>\n",
       "      <th>Plaza ID</th>\n",
       "      <th>Date</th>\n",
       "      <th>Hour</th>\n",
       "      <th>Direction</th>\n",
       "      <th># Vehicles - E-ZPass</th>\n",
       "      <th># Vehicles - VToll</th>\n",
       "    </tr>\n",
       "  </thead>\n",
       "  <tbody>\n",
       "    <tr>\n",
       "      <th>735652</th>\n",
       "      <td>5</td>\n",
       "      <td>2017-04-29</td>\n",
       "      <td>0</td>\n",
       "      <td>I</td>\n",
       "      <td>216</td>\n",
       "      <td>25</td>\n",
       "    </tr>\n",
       "    <tr>\n",
       "      <th>735653</th>\n",
       "      <td>5</td>\n",
       "      <td>2017-04-29</td>\n",
       "      <td>0</td>\n",
       "      <td>O</td>\n",
       "      <td>100</td>\n",
       "      <td>23</td>\n",
       "    </tr>\n",
       "    <tr>\n",
       "      <th>735654</th>\n",
       "      <td>5</td>\n",
       "      <td>2017-04-29</td>\n",
       "      <td>1</td>\n",
       "      <td>I</td>\n",
       "      <td>111</td>\n",
       "      <td>21</td>\n",
       "    </tr>\n",
       "    <tr>\n",
       "      <th>735655</th>\n",
       "      <td>5</td>\n",
       "      <td>2017-04-29</td>\n",
       "      <td>1</td>\n",
       "      <td>O</td>\n",
       "      <td>53</td>\n",
       "      <td>18</td>\n",
       "    </tr>\n",
       "    <tr>\n",
       "      <th>735656</th>\n",
       "      <td>5</td>\n",
       "      <td>2017-04-29</td>\n",
       "      <td>2</td>\n",
       "      <td>I</td>\n",
       "      <td>72</td>\n",
       "      <td>16</td>\n",
       "    </tr>\n",
       "  </tbody>\n",
       "</table>\n",
       "</div>"
      ],
      "text/plain": [
       "        Plaza ID       Date  Hour Direction  # Vehicles - E-ZPass  \\\n",
       "735652         5 2017-04-29     0         I                   216   \n",
       "735653         5 2017-04-29     0         O                   100   \n",
       "735654         5 2017-04-29     1         I                   111   \n",
       "735655         5 2017-04-29     1         O                    53   \n",
       "735656         5 2017-04-29     2         I                    72   \n",
       "\n",
       "        # Vehicles - VToll  \n",
       "735652                  25  \n",
       "735653                  23  \n",
       "735654                  21  \n",
       "735655                  18  \n",
       "735656                  16  "
      ]
     },
     "execution_count": 3,
     "metadata": {},
     "output_type": "execute_result"
    }
   ],
   "source": [
    "sample_to_work_on = df.query(\"`Plaza ID`==5 & Date>'2016-12-30' & Date<'2017-05-01'\") #It is important to use backticks because Plaza ID column has a whitespace in between\n",
    "sample_to_work_on.head()"
   ]
  },
  {
   "cell_type": "code",
   "execution_count": 4,
   "metadata": {},
   "outputs": [
    {
     "data": {
      "image/png": "[encoded data removed]",
      "text/plain": [
       "<Figure size 640x480 with 1 Axes>"
      ]
     },
     "metadata": {},
     "output_type": "display_data"
    }
   ],
   "source": [
    "plt.hist(sample_to_work_on['Hour'],bins=24,weights=sample_to_work_on['# Vehicles - E-ZPass'])\n",
    "plt.show()\n",
    "#Also it is important to indicate the hourly data is ordered in hours this is why we can see this clear"
   ]
  },
  {
   "attachments": {},
   "cell_type": "markdown",
   "metadata": {},
   "source": [
    "### As we can see the 5-10am and 15-17 hours are bigger in weight which helps us conclude these are rush hours for traffic"
   ]
  },
  {
   "attachments": {},
   "cell_type": "markdown",
   "metadata": {},
   "source": [
    "#### I also want to find which days are more crowded to do this i have to retrieve day of the data"
   ]
  },
  {
   "cell_type": "code",
   "execution_count": 5,
   "metadata": {},
   "outputs": [
    {
     "name": "stderr",
     "output_type": "stream",
     "text": [
      "C:\\Users\\eren\\AppData\\Local\\Temp\\ipykernel_5872\\1519595890.py:1: SettingWithCopyWarning: \n",
      "A value is trying to be set on a copy of a slice from a DataFrame.\n",
      "Try using .loc[row_indexer,col_indexer] = value instead\n",
      "\n",
      "See the caveats in the documentation: https://pandas.pydata.org/pandas-docs/stable/user_guide/indexing.html#returning-a-view-versus-a-copy\n",
      "  sample_to_work_on['Day of Week'] = sample_to_work_on['Date'].dt.day_of_week #taking days as numeric value from date data\n"
     ]
    },
    {
     "data": {
      "image/png": "[encoded data removed]",
      "text/plain": [
       "<Figure size 640x480 with 1 Axes>"
      ]
     },
     "metadata": {},
     "output_type": "display_data"
    }
   ],
   "source": [
    "sample_to_work_on['Day of Week'] = sample_to_work_on['Date'].dt.day_of_week #taking days as numeric value from date data\n",
    "\n",
    "plt.hist(sample_to_work_on['Day of Week'],bins=7,weights=sample_to_work_on['# Vehicles - E-ZPass'])\n",
    "plt.show()"
   ]
  },
  {
   "attachments": {},
   "cell_type": "markdown",
   "metadata": {},
   "source": [
    "### The weekends of course has less traffic compared to weekdays\n",
    "#### Lets combine this tho conclusions about hour and weekdays in heatmap can be reffered as 2dhistogram\n"
   ]
  },
  {
   "cell_type": "code",
   "execution_count": 6,
   "metadata": {},
   "outputs": [
    {
     "data": {
      "image/png": "[encoded data removed]",
      "text/plain": [
       "<Figure size 1200x900 with 2 Axes>"
      ]
     },
     "metadata": {},
     "output_type": "display_data"
    }
   ],
   "source": [
    "fig = plt.figure(figsize=(12,9))\n",
    "ax = fig.add_subplot(111)\n",
    "ax = plt.hist2d(\n",
    "    sample_to_work_on['Hour'], #first dimensional data includes 24 bins\n",
    "    sample_to_work_on['Day of Week'], #second dimensional data has 7 bins\n",
    "    bins=[24,7], #i am taking bins as a list of 24 and 7 because there are 24 hours and 7 days in a week considering the data given with order \n",
    "    weights=sample_to_work_on['# Vehicles - E-ZPass'],\n",
    ")\n",
    "plt.colorbar()\n",
    "plt.show()\n",
    "\n"
   ]
  },
  {
   "attachments": {},
   "cell_type": "markdown",
   "metadata": {},
   "source": [
    "Great! So lets disect this. First, we see that across all days (our y axis) the first four or so hours of the day are dark blue (this is the first four columns or so), indicating relatively little traffic. Then we see that for the days 0 through 4 we get a spike in traffic, shown as more yellow intensity cells in the image, but this isn't really true for the last two days of the week (the weekend - the top two rows).\n",
    "\n",
    "Time data is an interesting case for using heat maps, because we often have cycles of activity within a time period -- in this case weeks -- and that allows us to have two ordered dimensions."
   ]
  },
  {
   "attachments": {},
   "cell_type": "markdown",
   "metadata": {},
   "source": [
    "#### Now i'll be making analysis based on months and week of that month\n"
   ]
  },
  {
   "cell_type": "code",
   "execution_count": 7,
   "metadata": {},
   "outputs": [
    {
     "name": "stderr",
     "output_type": "stream",
     "text": [
      "C:\\Users\\eren\\AppData\\Local\\Temp\\ipykernel_5872\\2938417437.py:2: SettingWithCopyWarning: \n",
      "A value is trying to be set on a copy of a slice from a DataFrame.\n",
      "Try using .loc[row_indexer,col_indexer] = value instead\n",
      "\n",
      "See the caveats in the documentation: https://pandas.pydata.org/pandas-docs/stable/user_guide/indexing.html#returning-a-view-versus-a-copy\n",
      "  sample_to_work_on['Month of Year'] = sample_to_work_on['Date'].dt.month\n"
     ]
    },
    {
     "data": {
      "text/html": [
       "<div>\n",
       "<style scoped>\n",
       "    .dataframe tbody tr th:only-of-type {\n",
       "        vertical-align: middle;\n",
       "    }\n",
       "\n",
       "    .dataframe tbody tr th {\n",
       "        vertical-align: top;\n",
       "    }\n",
       "\n",
       "    .dataframe thead th {\n",
       "        text-align: right;\n",
       "    }\n",
       "</style>\n",
       "<table border=\"1\" class=\"dataframe\">\n",
       "  <thead>\n",
       "    <tr style=\"text-align: right;\">\n",
       "      <th></th>\n",
       "      <th>Plaza ID</th>\n",
       "      <th>Date</th>\n",
       "      <th>Hour</th>\n",
       "      <th>Direction</th>\n",
       "      <th># Vehicles - E-ZPass</th>\n",
       "      <th># Vehicles - VToll</th>\n",
       "      <th>Day of Week</th>\n",
       "      <th>Month of Year</th>\n",
       "    </tr>\n",
       "  </thead>\n",
       "  <tbody>\n",
       "    <tr>\n",
       "      <th>735652</th>\n",
       "      <td>5</td>\n",
       "      <td>2017-04-29</td>\n",
       "      <td>0</td>\n",
       "      <td>I</td>\n",
       "      <td>216</td>\n",
       "      <td>25</td>\n",
       "      <td>5</td>\n",
       "      <td>4</td>\n",
       "    </tr>\n",
       "    <tr>\n",
       "      <th>735653</th>\n",
       "      <td>5</td>\n",
       "      <td>2017-04-29</td>\n",
       "      <td>0</td>\n",
       "      <td>O</td>\n",
       "      <td>100</td>\n",
       "      <td>23</td>\n",
       "      <td>5</td>\n",
       "      <td>4</td>\n",
       "    </tr>\n",
       "    <tr>\n",
       "      <th>735654</th>\n",
       "      <td>5</td>\n",
       "      <td>2017-04-29</td>\n",
       "      <td>1</td>\n",
       "      <td>I</td>\n",
       "      <td>111</td>\n",
       "      <td>21</td>\n",
       "      <td>5</td>\n",
       "      <td>4</td>\n",
       "    </tr>\n",
       "    <tr>\n",
       "      <th>735655</th>\n",
       "      <td>5</td>\n",
       "      <td>2017-04-29</td>\n",
       "      <td>1</td>\n",
       "      <td>O</td>\n",
       "      <td>53</td>\n",
       "      <td>18</td>\n",
       "      <td>5</td>\n",
       "      <td>4</td>\n",
       "    </tr>\n",
       "    <tr>\n",
       "      <th>735656</th>\n",
       "      <td>5</td>\n",
       "      <td>2017-04-29</td>\n",
       "      <td>2</td>\n",
       "      <td>I</td>\n",
       "      <td>72</td>\n",
       "      <td>16</td>\n",
       "      <td>5</td>\n",
       "      <td>4</td>\n",
       "    </tr>\n",
       "  </tbody>\n",
       "</table>\n",
       "</div>"
      ],
      "text/plain": [
       "        Plaza ID       Date  Hour Direction  # Vehicles - E-ZPass  \\\n",
       "735652         5 2017-04-29     0         I                   216   \n",
       "735653         5 2017-04-29     0         O                   100   \n",
       "735654         5 2017-04-29     1         I                   111   \n",
       "735655         5 2017-04-29     1         O                    53   \n",
       "735656         5 2017-04-29     2         I                    72   \n",
       "\n",
       "        # Vehicles - VToll  Day of Week  Month of Year  \n",
       "735652                  25            5              4  \n",
       "735653                  23            5              4  \n",
       "735654                  21            5              4  \n",
       "735655                  18            5              4  \n",
       "735656                  16            5              4  "
      ]
     },
     "execution_count": 7,
     "metadata": {},
     "output_type": "execute_result"
    }
   ],
   "source": [
    "#i have to get the month data from timestamp column\n",
    "sample_to_work_on['Month of Year'] = sample_to_work_on['Date'].dt.month\n",
    "sample_to_work_on.head()"
   ]
  },
  {
   "cell_type": "code",
   "execution_count": 8,
   "metadata": {},
   "outputs": [
    {
     "data": {
      "image/png": "[encoded data removed]",
      "text/plain": [
       "<Figure size 1000x1000 with 1 Axes>"
      ]
     },
     "metadata": {},
     "output_type": "display_data"
    }
   ],
   "source": [
    "fig2 = plt.figure(figsize=(10,10))\n",
    "\n",
    "ax1 = fig2.add_subplot(111)\n",
    "\n",
    "ax1 = plt.hist(\n",
    "    sample_to_work_on['Month of Year'],\n",
    "    bins=12,\n",
    "    weights=sample_to_work_on['# Vehicles - E-ZPass']\n",
    ")\n",
    "\n",
    "plt.show()\n"
   ]
  },
  {
   "attachments": {},
   "cell_type": "markdown",
   "metadata": {},
   "source": [
    "### Important : there is something off with that table looks like some of values are missing remember i only retrieved data only including first half of 2017 lets take other part too"
   ]
  },
  {
   "cell_type": "code",
   "execution_count": 9,
   "metadata": {},
   "outputs": [
    {
     "data": {
      "image/png": "[encoded data removed]",
      "text/plain": [
       "<Figure size 1500x1000 with 1 Axes>"
      ]
     },
     "metadata": {},
     "output_type": "display_data"
    }
   ],
   "source": [
    "s1 = df[df['Date']<'2017-12-31'] #I can also retrieve the wanted part of data using boolean masking and loc method too.\n",
    "\n",
    "sample_to_work_on = pd.concat([sample_to_work_on,s1],axis=0,ignore_index=True) # This line will concantinate two dataframes in one in other. ignore_index parameter\n",
    "                                                                               # will ignore the index of the second dataframe and just continues index of the first dataframe\n",
    "\n",
    "sample_to_work_on['Month of Year'] = sample_to_work_on['Date'].dt.month #Taking month of date as numeric value\n",
    "fig2 = plt.figure(figsize=(15,10))\n",
    "\n",
    "ax1 = fig2.add_subplot(111)\n",
    "\n",
    "ax1 = plt.hist(\n",
    "    sample_to_work_on['Month of Year'],\n",
    "    bins=12, #I am taking bins to 12 because there are 12 months\n",
    "    weights=sample_to_work_on['# Vehicles - E-ZPass']\n",
    ")\n",
    "\n",
    "plt.show()"
   ]
  },
  {
   "cell_type": "code",
   "execution_count": 10,
   "metadata": {},
   "outputs": [
    {
     "data": {
      "text/html": [
       "<div>\n",
       "<style scoped>\n",
       "    .dataframe tbody tr th:only-of-type {\n",
       "        vertical-align: middle;\n",
       "    }\n",
       "\n",
       "    .dataframe tbody tr th {\n",
       "        vertical-align: top;\n",
       "    }\n",
       "\n",
       "    .dataframe thead th {\n",
       "        text-align: right;\n",
       "    }\n",
       "</style>\n",
       "<table border=\"1\" class=\"dataframe\">\n",
       "  <thead>\n",
       "    <tr style=\"text-align: right;\">\n",
       "      <th></th>\n",
       "      <th>Plaza ID</th>\n",
       "      <th>Date</th>\n",
       "      <th>Hour</th>\n",
       "      <th>Direction</th>\n",
       "      <th># Vehicles - E-ZPass</th>\n",
       "      <th># Vehicles - VToll</th>\n",
       "      <th>Day of Week</th>\n",
       "      <th>Month of Year</th>\n",
       "    </tr>\n",
       "  </thead>\n",
       "  <tbody>\n",
       "    <tr>\n",
       "      <th>0</th>\n",
       "      <td>5</td>\n",
       "      <td>2017-04-29</td>\n",
       "      <td>0</td>\n",
       "      <td>I</td>\n",
       "      <td>216</td>\n",
       "      <td>25</td>\n",
       "      <td>5.0</td>\n",
       "      <td>4</td>\n",
       "    </tr>\n",
       "    <tr>\n",
       "      <th>1</th>\n",
       "      <td>5</td>\n",
       "      <td>2017-04-29</td>\n",
       "      <td>0</td>\n",
       "      <td>O</td>\n",
       "      <td>100</td>\n",
       "      <td>23</td>\n",
       "      <td>5.0</td>\n",
       "      <td>4</td>\n",
       "    </tr>\n",
       "    <tr>\n",
       "      <th>2</th>\n",
       "      <td>5</td>\n",
       "      <td>2017-04-29</td>\n",
       "      <td>1</td>\n",
       "      <td>I</td>\n",
       "      <td>111</td>\n",
       "      <td>21</td>\n",
       "      <td>5.0</td>\n",
       "      <td>4</td>\n",
       "    </tr>\n",
       "    <tr>\n",
       "      <th>3</th>\n",
       "      <td>5</td>\n",
       "      <td>2017-04-29</td>\n",
       "      <td>1</td>\n",
       "      <td>O</td>\n",
       "      <td>53</td>\n",
       "      <td>18</td>\n",
       "      <td>5.0</td>\n",
       "      <td>4</td>\n",
       "    </tr>\n",
       "    <tr>\n",
       "      <th>4</th>\n",
       "      <td>5</td>\n",
       "      <td>2017-04-29</td>\n",
       "      <td>2</td>\n",
       "      <td>I</td>\n",
       "      <td>72</td>\n",
       "      <td>16</td>\n",
       "      <td>5.0</td>\n",
       "      <td>4</td>\n",
       "    </tr>\n",
       "  </tbody>\n",
       "</table>\n",
       "</div>"
      ],
      "text/plain": [
       "   Plaza ID       Date  Hour Direction  # Vehicles - E-ZPass  \\\n",
       "0         5 2017-04-29     0         I                   216   \n",
       "1         5 2017-04-29     0         O                   100   \n",
       "2         5 2017-04-29     1         I                   111   \n",
       "3         5 2017-04-29     1         O                    53   \n",
       "4         5 2017-04-29     2         I                    72   \n",
       "\n",
       "   # Vehicles - VToll  Day of Week  Month of Year  \n",
       "0                  25          5.0              4  \n",
       "1                  23          5.0              4  \n",
       "2                  21          5.0              4  \n",
       "3                  18          5.0              4  \n",
       "4                  16          5.0              4  "
      ]
     },
     "execution_count": 10,
     "metadata": {},
     "output_type": "execute_result"
    }
   ],
   "source": [
    "sample_to_work_on.head()"
   ]
  },
  {
   "attachments": {},
   "cell_type": "markdown",
   "metadata": {},
   "source": [
    "## Now I'm going to look forward to analyse week of that spesific month\n",
    "#### Unfortunately there is no implemented function for this kind of problem ,to do this i will create a function which gets week rank of that date"
   ]
  },
  {
   "cell_type": "code",
   "execution_count": 28,
   "metadata": {},
   "outputs": [
    {
     "data": {
      "text/html": [
       "<div>\n",
       "<style scoped>\n",
       "    .dataframe tbody tr th:only-of-type {\n",
       "        vertical-align: middle;\n",
       "    }\n",
       "\n",
       "    .dataframe tbody tr th {\n",
       "        vertical-align: top;\n",
       "    }\n",
       "\n",
       "    .dataframe thead th {\n",
       "        text-align: right;\n",
       "    }\n",
       "</style>\n",
       "<table border=\"1\" class=\"dataframe\">\n",
       "  <thead>\n",
       "    <tr style=\"text-align: right;\">\n",
       "      <th></th>\n",
       "      <th>Plaza ID</th>\n",
       "      <th>Date</th>\n",
       "      <th>Hour</th>\n",
       "      <th>Direction</th>\n",
       "      <th># Vehicles - E-ZPass</th>\n",
       "      <th># Vehicles - VToll</th>\n",
       "      <th>Day of Week</th>\n",
       "      <th>Month of Year</th>\n",
       "      <th>Week of Month</th>\n",
       "      <th>MM-DD</th>\n",
       "      <th>Day</th>\n",
       "    </tr>\n",
       "  </thead>\n",
       "  <tbody>\n",
       "    <tr>\n",
       "      <th>0</th>\n",
       "      <td>5</td>\n",
       "      <td>2017-04-29</td>\n",
       "      <td>0</td>\n",
       "      <td>I</td>\n",
       "      <td>216</td>\n",
       "      <td>25</td>\n",
       "      <td>5.0</td>\n",
       "      <td>4</td>\n",
       "      <td>5</td>\n",
       "      <td>04-29</td>\n",
       "      <td>29</td>\n",
       "    </tr>\n",
       "    <tr>\n",
       "      <th>1</th>\n",
       "      <td>5</td>\n",
       "      <td>2017-04-29</td>\n",
       "      <td>0</td>\n",
       "      <td>O</td>\n",
       "      <td>100</td>\n",
       "      <td>23</td>\n",
       "      <td>5.0</td>\n",
       "      <td>4</td>\n",
       "      <td>5</td>\n",
       "      <td>04-29</td>\n",
       "      <td>29</td>\n",
       "    </tr>\n",
       "    <tr>\n",
       "      <th>2</th>\n",
       "      <td>5</td>\n",
       "      <td>2017-04-29</td>\n",
       "      <td>1</td>\n",
       "      <td>I</td>\n",
       "      <td>111</td>\n",
       "      <td>21</td>\n",
       "      <td>5.0</td>\n",
       "      <td>4</td>\n",
       "      <td>5</td>\n",
       "      <td>04-29</td>\n",
       "      <td>29</td>\n",
       "    </tr>\n",
       "    <tr>\n",
       "      <th>3</th>\n",
       "      <td>5</td>\n",
       "      <td>2017-04-29</td>\n",
       "      <td>1</td>\n",
       "      <td>O</td>\n",
       "      <td>53</td>\n",
       "      <td>18</td>\n",
       "      <td>5.0</td>\n",
       "      <td>4</td>\n",
       "      <td>5</td>\n",
       "      <td>04-29</td>\n",
       "      <td>29</td>\n",
       "    </tr>\n",
       "    <tr>\n",
       "      <th>4</th>\n",
       "      <td>5</td>\n",
       "      <td>2017-04-29</td>\n",
       "      <td>2</td>\n",
       "      <td>I</td>\n",
       "      <td>72</td>\n",
       "      <td>16</td>\n",
       "      <td>5.0</td>\n",
       "      <td>4</td>\n",
       "      <td>5</td>\n",
       "      <td>04-29</td>\n",
       "      <td>29</td>\n",
       "    </tr>\n",
       "    <tr>\n",
       "      <th>5</th>\n",
       "      <td>5</td>\n",
       "      <td>2017-04-29</td>\n",
       "      <td>2</td>\n",
       "      <td>O</td>\n",
       "      <td>32</td>\n",
       "      <td>14</td>\n",
       "      <td>5.0</td>\n",
       "      <td>4</td>\n",
       "      <td>5</td>\n",
       "      <td>04-29</td>\n",
       "      <td>29</td>\n",
       "    </tr>\n",
       "    <tr>\n",
       "      <th>6</th>\n",
       "      <td>5</td>\n",
       "      <td>2017-04-29</td>\n",
       "      <td>3</td>\n",
       "      <td>I</td>\n",
       "      <td>40</td>\n",
       "      <td>15</td>\n",
       "      <td>5.0</td>\n",
       "      <td>4</td>\n",
       "      <td>5</td>\n",
       "      <td>04-29</td>\n",
       "      <td>29</td>\n",
       "    </tr>\n",
       "    <tr>\n",
       "      <th>7</th>\n",
       "      <td>5</td>\n",
       "      <td>2017-04-29</td>\n",
       "      <td>3</td>\n",
       "      <td>O</td>\n",
       "      <td>26</td>\n",
       "      <td>16</td>\n",
       "      <td>5.0</td>\n",
       "      <td>4</td>\n",
       "      <td>5</td>\n",
       "      <td>04-29</td>\n",
       "      <td>29</td>\n",
       "    </tr>\n",
       "    <tr>\n",
       "      <th>8</th>\n",
       "      <td>5</td>\n",
       "      <td>2017-04-29</td>\n",
       "      <td>4</td>\n",
       "      <td>I</td>\n",
       "      <td>45</td>\n",
       "      <td>12</td>\n",
       "      <td>5.0</td>\n",
       "      <td>4</td>\n",
       "      <td>5</td>\n",
       "      <td>04-29</td>\n",
       "      <td>29</td>\n",
       "    </tr>\n",
       "    <tr>\n",
       "      <th>9</th>\n",
       "      <td>5</td>\n",
       "      <td>2017-04-29</td>\n",
       "      <td>4</td>\n",
       "      <td>O</td>\n",
       "      <td>43</td>\n",
       "      <td>9</td>\n",
       "      <td>5.0</td>\n",
       "      <td>4</td>\n",
       "      <td>5</td>\n",
       "      <td>04-29</td>\n",
       "      <td>29</td>\n",
       "    </tr>\n",
       "  </tbody>\n",
       "</table>\n",
       "</div>"
      ],
      "text/plain": [
       "   Plaza ID       Date  Hour Direction  # Vehicles - E-ZPass  \\\n",
       "0         5 2017-04-29     0         I                   216   \n",
       "1         5 2017-04-29     0         O                   100   \n",
       "2         5 2017-04-29     1         I                   111   \n",
       "3         5 2017-04-29     1         O                    53   \n",
       "4         5 2017-04-29     2         I                    72   \n",
       "5         5 2017-04-29     2         O                    32   \n",
       "6         5 2017-04-29     3         I                    40   \n",
       "7         5 2017-04-29     3         O                    26   \n",
       "8         5 2017-04-29     4         I                    45   \n",
       "9         5 2017-04-29     4         O                    43   \n",
       "\n",
       "   # Vehicles - VToll  Day of Week  Month of Year  Week of Month  MM-DD  Day  \n",
       "0                  25          5.0              4              5  04-29   29  \n",
       "1                  23          5.0              4              5  04-29   29  \n",
       "2                  21          5.0              4              5  04-29   29  \n",
       "3                  18          5.0              4              5  04-29   29  \n",
       "4                  16          5.0              4              5  04-29   29  \n",
       "5                  14          5.0              4              5  04-29   29  \n",
       "6                  15          5.0              4              5  04-29   29  \n",
       "7                  16          5.0              4              5  04-29   29  \n",
       "8                  12          5.0              4              5  04-29   29  \n",
       "9                   9          5.0              4              5  04-29   29  "
      ]
     },
     "execution_count": 28,
     "metadata": {},
     "output_type": "execute_result"
    }
   ],
   "source": [
    "import math\n",
    "def get_week_of_month(date):\n",
    "   first_day = date.replace(day=1)\n",
    "\n",
    "   day_of_month = date.day\n",
    "\n",
    "   if(first_day.weekday() == 6):\n",
    "       adjusted_dom = (1 + first_day.weekday()) / 7\n",
    "   else:\n",
    "       adjusted_dom = day_of_month + first_day.weekday()\n",
    "\n",
    "   return int(math.ceil(adjusted_dom/7.0))\n",
    "\n",
    "sample_to_work_on['Week of Month'] = sample_to_work_on['Date'].apply(get_week_of_month)\n",
    "sample_to_work_on.head(10)"
   ]
  },
  {
   "cell_type": "code",
   "execution_count": 33,
   "metadata": {},
   "outputs": [
    {
     "data": {
      "text/plain": [
       "array([5, 4, 3, 2, 1, 6], dtype=int64)"
      ]
     },
     "execution_count": 33,
     "metadata": {},
     "output_type": "execute_result"
    }
   ],
   "source": [
    "sample_to_work_on['Week of Month'].unique()"
   ]
  },
  {
   "cell_type": "code",
   "execution_count": 36,
   "metadata": {},
   "outputs": [
    {
     "data": {
      "image/png": "[encoded data removed]",
      "text/plain": [
       "<Figure size 1000x800 with 1 Axes>"
      ]
     },
     "metadata": {},
     "output_type": "display_data"
    }
   ],
   "source": [
    "fig = plt.figure(figsize=(10,8))\n",
    "\n",
    "ax = fig.add_subplot(111)\n",
    "\n",
    "ax = plt.hist(\n",
    "    sample_to_work_on['Week of Month'],\n",
    "    bins=6, #because max week a month can hold is 6\n",
    "    weights=sample_to_work_on['# Vehicles - E-ZPass']\n",
    ")\n",
    "plt.title('Week rank vs Traffic')\n",
    "plt.xlabel('Week Rank')\n",
    "plt.ylabel('Pass')\n",
    "\n",
    "plt.show()"
   ]
  },
  {
   "attachments": {},
   "cell_type": "markdown",
   "metadata": {},
   "source": [
    "## Combining Month and week data to a heatmap:"
   ]
  },
  {
   "cell_type": "code",
   "execution_count": 39,
   "metadata": {},
   "outputs": [
    {
     "data": {
      "image/png": "[encoded data removed]",
      "text/plain": [
       "<Figure size 1200x800 with 2 Axes>"
      ]
     },
     "metadata": {},
     "output_type": "display_data"
    }
   ],
   "source": [
    "fig = plt.figure(figsize=(12,8))\n",
    "\n",
    "ax = fig.add_subplot(111)\n",
    "\n",
    "ax = plt.hist2d(\n",
    "    sample_to_work_on['Month of Year'],\n",
    "    sample_to_work_on['Week of Month'],\n",
    "    bins=[12,6], #the combined range of both is this\n",
    "    weights=sample_to_work_on['# Vehicles - E-ZPass']\n",
    ")\n",
    "plt.title('Month and week heatmap')\n",
    "plt.xlabel('month')\n",
    "plt.ylabel('Week')\n",
    "plt.colorbar()\n",
    "plt.show()"
   ]
  },
  {
   "cell_type": "code",
   "execution_count": null,
   "metadata": {},
   "outputs": [],
   "source": []
  }
 ],
 "metadata": {
  "kernelspec": {
   "display_name": "Python 3",
   "language": "python",
   "name": "python3"
  },
  "language_info": {
   "codemirror_mode": {
    "name": "ipython",
    "version": 3
   },
   "file_extension": ".py",
   "mimetype": "text/x-python",
   "name": "python",
   "nbconvert_exporter": "python",
   "pygments_lexer": "ipython3",
   "version": "3.10.5"
  },
  "vscode": {
   "interpreter": {
    "hash": "837b26941398692a17c85616173b2254707ee59b75ba91fa6b2e7847b21d53ef"
   }
  }
 },
 "nbformat": 4,
 "nbformat_minor": 4
}
